{
 "cells": [
  {
   "cell_type": "markdown",
   "metadata": {},
   "source": [
    "# <font color='blue'>Analysis COVID19 - Relation between confirmed cases and weather conditions</font>"
   ]
  },
  {
   "cell_type": "code",
   "execution_count": null,
   "metadata": {},
   "outputs": [],
   "source": [
    "#Pyhton library\n",
    "\n",
    "import pandas as pd\n",
    "import seaborn as sns\n",
    "import time\n",
    "import matplotlib.pyplot as plt\n",
    "import matplotlib.dates as mdates\n",
    "import geopandas as gpd\n",
    "import numpy as np\n",
    "import statsmodels.api as sm\n",
    "from pathlib import Path\n",
    "import plotly.offline as py\n",
    "import plotly.express as px\n",
    "import cufflinks as cf\n",
    "import datetime"
   ]
  },
  {
   "cell_type": "markdown",
   "metadata": {},
   "source": [
    "## Data analysis for Milan"
   ]
  },
  {
   "cell_type": "code",
   "execution_count": 14,
   "metadata": {},
   "outputs": [
    {
     "data": {
      "text/html": [
       "<div>\n",
       "<style scoped>\n",
       "    .dataframe tbody tr th:only-of-type {\n",
       "        vertical-align: middle;\n",
       "    }\n",
       "\n",
       "    .dataframe tbody tr th {\n",
       "        vertical-align: top;\n",
       "    }\n",
       "\n",
       "    .dataframe thead th {\n",
       "        text-align: right;\n",
       "    }\n",
       "</style>\n",
       "<table border=\"1\" class=\"dataframe\">\n",
       "  <thead>\n",
       "    <tr style=\"text-align: right;\">\n",
       "      <th></th>\n",
       "      <th>Date</th>\n",
       "      <th>Temp Max</th>\n",
       "      <th>Temp Avg</th>\n",
       "      <th>Temp Min</th>\n",
       "      <th>DP Max</th>\n",
       "      <th>Hum Max</th>\n",
       "      <th>Hum Avg</th>\n",
       "      <th>Hum Min</th>\n",
       "      <th>Cases</th>\n",
       "      <th>CumulativeCases</th>\n",
       "      <th>DP Avg</th>\n",
       "      <th>DP Min</th>\n",
       "      <th>Wind Max</th>\n",
       "      <th>Wind Avg</th>\n",
       "      <th>Wind Min</th>\n",
       "      <th>Press Max</th>\n",
       "      <th>Press Avg</th>\n",
       "      <th>Press Min</th>\n",
       "      <th>Precipitation (in)</th>\n",
       "    </tr>\n",
       "  </thead>\n",
       "  <tbody>\n",
       "    <tr>\n",
       "      <th>24</th>\n",
       "      <td>25-02-20</td>\n",
       "      <td>57</td>\n",
       "      <td>52.1</td>\n",
       "      <td>48</td>\n",
       "      <td>48</td>\n",
       "      <td>93</td>\n",
       "      <td>80.2</td>\n",
       "      <td>67</td>\n",
       "      <td>8</td>\n",
       "      <td>8</td>\n",
       "      <td>45.9</td>\n",
       "      <td>45</td>\n",
       "      <td>5</td>\n",
       "      <td>1.9</td>\n",
       "      <td>0</td>\n",
       "      <td>29.6</td>\n",
       "      <td>29.4</td>\n",
       "      <td>29.2</td>\n",
       "      <td>0</td>\n",
       "    </tr>\n",
       "    <tr>\n",
       "      <th>26</th>\n",
       "      <td>27-02-20</td>\n",
       "      <td>54</td>\n",
       "      <td>45.8</td>\n",
       "      <td>34</td>\n",
       "      <td>27</td>\n",
       "      <td>65</td>\n",
       "      <td>39.0</td>\n",
       "      <td>24</td>\n",
       "      <td>7</td>\n",
       "      <td>15</td>\n",
       "      <td>20.7</td>\n",
       "      <td>16</td>\n",
       "      <td>9</td>\n",
       "      <td>4.9</td>\n",
       "      <td>2</td>\n",
       "      <td>29.5</td>\n",
       "      <td>29.4</td>\n",
       "      <td>29.2</td>\n",
       "      <td>0</td>\n",
       "    </tr>\n",
       "    <tr>\n",
       "      <th>27</th>\n",
       "      <td>28-02-20</td>\n",
       "      <td>61</td>\n",
       "      <td>49.8</td>\n",
       "      <td>41</td>\n",
       "      <td>30</td>\n",
       "      <td>65</td>\n",
       "      <td>30.5</td>\n",
       "      <td>10</td>\n",
       "      <td>14</td>\n",
       "      <td>29</td>\n",
       "      <td>15.8</td>\n",
       "      <td>3</td>\n",
       "      <td>14</td>\n",
       "      <td>7.1</td>\n",
       "      <td>1</td>\n",
       "      <td>29.7</td>\n",
       "      <td>29.6</td>\n",
       "      <td>29.3</td>\n",
       "      <td>0</td>\n",
       "    </tr>\n",
       "    <tr>\n",
       "      <th>28</th>\n",
       "      <td>29-02-20</td>\n",
       "      <td>50</td>\n",
       "      <td>44.7</td>\n",
       "      <td>37</td>\n",
       "      <td>41</td>\n",
       "      <td>93</td>\n",
       "      <td>55.0</td>\n",
       "      <td>37</td>\n",
       "      <td>1</td>\n",
       "      <td>30</td>\n",
       "      <td>28.5</td>\n",
       "      <td>21</td>\n",
       "      <td>9</td>\n",
       "      <td>3.5</td>\n",
       "      <td>1</td>\n",
       "      <td>29.7</td>\n",
       "      <td>29.6</td>\n",
       "      <td>29.5</td>\n",
       "      <td>0</td>\n",
       "    </tr>\n",
       "    <tr>\n",
       "      <th>29</th>\n",
       "      <td>01-03-20</td>\n",
       "      <td>46</td>\n",
       "      <td>44.2</td>\n",
       "      <td>41</td>\n",
       "      <td>43</td>\n",
       "      <td>100</td>\n",
       "      <td>89.4</td>\n",
       "      <td>81</td>\n",
       "      <td>16</td>\n",
       "      <td>46</td>\n",
       "      <td>41.2</td>\n",
       "      <td>39</td>\n",
       "      <td>6</td>\n",
       "      <td>3.0</td>\n",
       "      <td>0</td>\n",
       "      <td>29.5</td>\n",
       "      <td>29.3</td>\n",
       "      <td>29.2</td>\n",
       "      <td>0</td>\n",
       "    </tr>\n",
       "  </tbody>\n",
       "</table>\n",
       "</div>"
      ],
      "text/plain": [
       "        Date  Temp Max  Temp Avg  Temp Min  DP Max  Hum Max  Hum Avg  Hum Min  \\\n",
       "24  25-02-20        57      52.1        48      48       93     80.2       67   \n",
       "26  27-02-20        54      45.8        34      27       65     39.0       24   \n",
       "27  28-02-20        61      49.8        41      30       65     30.5       10   \n",
       "28  29-02-20        50      44.7        37      41       93     55.0       37   \n",
       "29  01-03-20        46      44.2        41      43      100     89.4       81   \n",
       "\n",
       "    Cases  CumulativeCases  DP Avg  DP Min  Wind Max  Wind Avg  Wind Min  \\\n",
       "24      8                8    45.9      45         5       1.9         0   \n",
       "26      7               15    20.7      16         9       4.9         2   \n",
       "27     14               29    15.8       3        14       7.1         1   \n",
       "28      1               30    28.5      21         9       3.5         1   \n",
       "29     16               46    41.2      39         6       3.0         0   \n",
       "\n",
       "    Press Max  Press Avg  Press Min  Precipitation (in)  \n",
       "24       29.6       29.4       29.2                   0  \n",
       "26       29.5       29.4       29.2                   0  \n",
       "27       29.7       29.6       29.3                   0  \n",
       "28       29.7       29.6       29.5                   0  \n",
       "29       29.5       29.3       29.2                   0  "
      ]
     },
     "execution_count": 14,
     "metadata": {},
     "output_type": "execute_result"
    }
   ],
   "source": [
    "#Loading datasets (Weather and Italy Covid19)\n",
    "df_italy = pd.read_csv('Weather/data_milan_italy_weather.csv')\n",
    "df_italy1 = df_italy[df_italy['Cases'] != 0]\n",
    "df_italy1.head()"
   ]
  },
  {
   "cell_type": "code",
   "execution_count": null,
   "metadata": {},
   "outputs": [],
   "source": [
    "fig, ax = plt.subplots(figsize=(10, 10))\n",
    "ax.plot(df_italy1['Date'], df_italy1['Cases'])\n",
    "\n",
    "# rotate and align the tick labels so they look better\n",
    "fig.autofmt_xdate()\n",
    "\n",
    "ax.set_title('Cases in Milan')\n",
    "plt.xlabel(\"Date\")\n",
    "plt.ylabel(\"Total Positive Cases\")"
   ]
  },
  {
   "cell_type": "code",
   "execution_count": null,
   "metadata": {},
   "outputs": [],
   "source": [
    "#Gravicos de Temperatura"
   ]
  },
  {
   "cell_type": "code",
   "execution_count": null,
   "metadata": {},
   "outputs": [],
   "source": [
    "#Gravicos de Humidade"
   ]
  },
  {
   "cell_type": "code",
   "execution_count": null,
   "metadata": {},
   "outputs": [],
   "source": [
    "corr = df_italy1.corr()\n",
    "ax = sns.heatmap(corr, \n",
    "    vmin=-1, vmax=1, center=0,\n",
    "    cmap=sns.diverging_palette(20, 220, n=200),\n",
    "    square=True)\n",
    "ax.set_xticklabels(ax.get_xticklabels(),\n",
    "    rotation=45,\n",
    "    horizontalalignment='right');"
   ]
  },
  {
   "cell_type": "markdown",
   "metadata": {},
   "source": [
    "### Analysis: Humidity and Cases"
   ]
  },
  {
   "cell_type": "code",
   "execution_count": 15,
   "metadata": {},
   "outputs": [
    {
     "data": {
      "text/plain": [
       "Text(0,0.5,'Humidity')"
      ]
     },
     "execution_count": 15,
     "metadata": {},
     "output_type": "execute_result"
    },
    {
     "data": {
      "image/png": "[encoded data removed]",
      "text/plain": [
       "<Figure size 432x288 with 1 Axes>"
      ]
     },
     "metadata": {
      "needs_background": "light"
     },
     "output_type": "display_data"
    }
   ],
   "source": [
    "plt.scatter(df_italy1['Cases'], df_italy1['Hum Avg'])\n",
    "plt.xlabel(\"Total Positive Cases\")\n",
    "plt.ylabel(\"Humidity\")"
   ]
  },
  {
   "cell_type": "markdown",
   "metadata": {},
   "source": [
    "### Analysis: Temperature x Confirmed Cases"
   ]
  },
  {
   "cell_type": "code",
   "execution_count": 16,
   "metadata": {},
   "outputs": [
    {
     "data": {
      "text/plain": [
       "Text(0,0.5,'Temperature')"
      ]
     },
     "execution_count": 16,
     "metadata": {},
     "output_type": "execute_result"
    },
    {
     "data": {
      "image/png": "[encoded data removed]",
      "text/plain": [
       "<Figure size 432x288 with 1 Axes>"
      ]
     },
     "metadata": {
      "needs_background": "light"
     },
     "output_type": "display_data"
    }
   ],
   "source": [
    "plt.scatter(df_italy1['Cases'], df_italy1['Temp Avg'])\n",
    "plt.xlabel(\"Total Positive Cases\")\n",
    "plt.ylabel(\"Temperature\")"
   ]
  },
  {
   "cell_type": "code",
   "execution_count": null,
   "metadata": {},
   "outputs": [],
   "source": []
  },
  {
   "cell_type": "markdown",
   "metadata": {},
   "source": [
    "## Data analysis for New York"
   ]
  },
  {
   "cell_type": "code",
   "execution_count": 17,
   "metadata": {},
   "outputs": [
    {
     "data": {
      "text/html": [
       "<div>\n",
       "<style scoped>\n",
       "    .dataframe tbody tr th:only-of-type {\n",
       "        vertical-align: middle;\n",
       "    }\n",
       "\n",
       "    .dataframe tbody tr th {\n",
       "        vertical-align: top;\n",
       "    }\n",
       "\n",
       "    .dataframe thead th {\n",
       "        text-align: right;\n",
       "    }\n",
       "</style>\n",
       "<table border=\"1\" class=\"dataframe\">\n",
       "  <thead>\n",
       "    <tr style=\"text-align: right;\">\n",
       "      <th></th>\n",
       "      <th>Date</th>\n",
       "      <th>Temp Max</th>\n",
       "      <th>Temp Avg</th>\n",
       "      <th>Temp Min</th>\n",
       "      <th>Hum Max</th>\n",
       "      <th>Hum Avg</th>\n",
       "      <th>Hum Min</th>\n",
       "      <th>Cases</th>\n",
       "      <th>CumulativeCases</th>\n",
       "      <th>DP Max</th>\n",
       "      <th>DP Avg</th>\n",
       "      <th>DP Min</th>\n",
       "      <th>Wind Max</th>\n",
       "      <th>Wind Avg</th>\n",
       "      <th>Wind Min</th>\n",
       "      <th>Press Max</th>\n",
       "      <th>Press Avg</th>\n",
       "      <th>Press Min</th>\n",
       "      <th>Precipitation (in)</th>\n",
       "    </tr>\n",
       "  </thead>\n",
       "  <tbody>\n",
       "    <tr>\n",
       "      <th>32</th>\n",
       "      <td>04-03-20</td>\n",
       "      <td>57</td>\n",
       "      <td>50.5</td>\n",
       "      <td>46</td>\n",
       "      <td>66</td>\n",
       "      <td>44.8</td>\n",
       "      <td>24</td>\n",
       "      <td>1</td>\n",
       "      <td>1</td>\n",
       "      <td>37</td>\n",
       "      <td>28.5</td>\n",
       "      <td>19</td>\n",
       "      <td>28</td>\n",
       "      <td>18.2</td>\n",
       "      <td>12</td>\n",
       "      <td>29.9</td>\n",
       "      <td>29.7</td>\n",
       "      <td>29.5</td>\n",
       "      <td>0.28</td>\n",
       "    </tr>\n",
       "    <tr>\n",
       "      <th>33</th>\n",
       "      <td>05-03-20</td>\n",
       "      <td>52</td>\n",
       "      <td>44.8</td>\n",
       "      <td>40</td>\n",
       "      <td>71</td>\n",
       "      <td>48.5</td>\n",
       "      <td>27</td>\n",
       "      <td>1</td>\n",
       "      <td>2</td>\n",
       "      <td>34</td>\n",
       "      <td>25.4</td>\n",
       "      <td>19</td>\n",
       "      <td>24</td>\n",
       "      <td>12.9</td>\n",
       "      <td>5</td>\n",
       "      <td>30.1</td>\n",
       "      <td>30.1</td>\n",
       "      <td>29.9</td>\n",
       "      <td>0.00</td>\n",
       "    </tr>\n",
       "    <tr>\n",
       "      <th>34</th>\n",
       "      <td>06-03-20</td>\n",
       "      <td>45</td>\n",
       "      <td>41.6</td>\n",
       "      <td>37</td>\n",
       "      <td>89</td>\n",
       "      <td>74.7</td>\n",
       "      <td>65</td>\n",
       "      <td>3</td>\n",
       "      <td>5</td>\n",
       "      <td>36</td>\n",
       "      <td>34.0</td>\n",
       "      <td>30</td>\n",
       "      <td>20</td>\n",
       "      <td>13.0</td>\n",
       "      <td>5</td>\n",
       "      <td>30.1</td>\n",
       "      <td>29.9</td>\n",
       "      <td>29.8</td>\n",
       "      <td>0.00</td>\n",
       "    </tr>\n",
       "    <tr>\n",
       "      <th>37</th>\n",
       "      <td>09-03-20</td>\n",
       "      <td>72</td>\n",
       "      <td>59.6</td>\n",
       "      <td>47</td>\n",
       "      <td>41</td>\n",
       "      <td>26.1</td>\n",
       "      <td>15</td>\n",
       "      <td>7</td>\n",
       "      <td>12</td>\n",
       "      <td>32</td>\n",
       "      <td>23.4</td>\n",
       "      <td>17</td>\n",
       "      <td>17</td>\n",
       "      <td>11.1</td>\n",
       "      <td>6</td>\n",
       "      <td>30.4</td>\n",
       "      <td>30.3</td>\n",
       "      <td>30.2</td>\n",
       "      <td>0.00</td>\n",
       "    </tr>\n",
       "    <tr>\n",
       "      <th>38</th>\n",
       "      <td>10-03-20</td>\n",
       "      <td>66</td>\n",
       "      <td>60.8</td>\n",
       "      <td>55</td>\n",
       "      <td>64</td>\n",
       "      <td>48.0</td>\n",
       "      <td>35</td>\n",
       "      <td>12</td>\n",
       "      <td>24</td>\n",
       "      <td>49</td>\n",
       "      <td>40.6</td>\n",
       "      <td>30</td>\n",
       "      <td>22</td>\n",
       "      <td>13.2</td>\n",
       "      <td>6</td>\n",
       "      <td>30.2</td>\n",
       "      <td>30.0</td>\n",
       "      <td>29.9</td>\n",
       "      <td>0.00</td>\n",
       "    </tr>\n",
       "  </tbody>\n",
       "</table>\n",
       "</div>"
      ],
      "text/plain": [
       "        Date  Temp Max  Temp Avg  Temp Min  Hum Max  Hum Avg  Hum Min  Cases  \\\n",
       "32  04-03-20        57      50.5        46       66     44.8       24      1   \n",
       "33  05-03-20        52      44.8        40       71     48.5       27      1   \n",
       "34  06-03-20        45      41.6        37       89     74.7       65      3   \n",
       "37  09-03-20        72      59.6        47       41     26.1       15      7   \n",
       "38  10-03-20        66      60.8        55       64     48.0       35     12   \n",
       "\n",
       "    CumulativeCases  DP Max  DP Avg  DP Min  Wind Max  Wind Avg  Wind Min  \\\n",
       "32                1      37    28.5      19        28      18.2        12   \n",
       "33                2      34    25.4      19        24      12.9         5   \n",
       "34                5      36    34.0      30        20      13.0         5   \n",
       "37               12      32    23.4      17        17      11.1         6   \n",
       "38               24      49    40.6      30        22      13.2         6   \n",
       "\n",
       "    Press Max  Press Avg  Press Min  Precipitation (in)  \n",
       "32       29.9       29.7       29.5                0.28  \n",
       "33       30.1       30.1       29.9                0.00  \n",
       "34       30.1       29.9       29.8                0.00  \n",
       "37       30.4       30.3       30.2                0.00  \n",
       "38       30.2       30.0       29.9                0.00  "
      ]
     },
     "execution_count": 17,
     "metadata": {},
     "output_type": "execute_result"
    }
   ],
   "source": [
    "df_new_york = pd.read_csv('Weather/data_new-york_weather.csv')\n",
    "df_new_york1 = df_new_york.drop(df_new_york['Cases'].idxmax())\n",
    "df_new_york2 = df_new_york1[df_new_york1['Cases'] != 0]\n",
    "df_new_york2.head()"
   ]
  },
  {
   "cell_type": "code",
   "execution_count": null,
   "metadata": {},
   "outputs": [],
   "source": [
    "fig, ax = plt.subplots(figsize=(10, 10))\n",
    "ax.plot(df_new_york2['Date'], df_new_york2['Cases'])\n",
    "fig.autofmt_xdate()\n",
    "ax.set_title('Cases in New York')\n",
    "plt.xlabel(\"Date\")\n",
    "plt.ylabel(\"Total Positive Cases\")"
   ]
  },
  {
   "cell_type": "code",
   "execution_count": null,
   "metadata": {},
   "outputs": [],
   "source": [
    "fig, ax = plt.subplots(figsize=(10, 10))\n",
    "ax.plot(df_new_york2['Date'], df_new_york2['Temp Max'], 'r', label='Temp Max')\n",
    "ax.plot(df_new_york2['Date'], df_new_york2['Temp Min'], 'b', label='Temp Min')\n",
    "ax.plot(df_new_york2['Date'], df_new_york2['Temp Avg'], 'k--', label='Temp Avg')\n",
    "\n",
    "plt.legend(bbox_to_anchor=(1.05, 1.0), loc='upper left')\n",
    "plt.tight_layout()\n",
    "\n",
    "fig.autofmt_xdate()\n",
    "ax.set_title('Temperature in New York')\n",
    "plt.xlabel(\"Date\")\n",
    "plt.ylabel(\"Temperature\")"
   ]
  },
  {
   "cell_type": "code",
   "execution_count": null,
   "metadata": {},
   "outputs": [],
   "source": [
    "fig, ax = plt.subplots(figsize=(10, 10))\n",
    "ax.plot(df_new_york2['Date'], df_new_york2['Hum Max'], 'g', label='Hum Max')\n",
    "ax.plot(df_new_york2['Date'], df_new_york2['Hum Min'], 'c', label='Hum Min')\n",
    "ax.plot(df_new_york2['Date'], df_new_york2['Hum Avg'], 'k--', label='Hum Avg')\n",
    "plt.legend(bbox_to_anchor=(1.05, 1.0), loc='upper left')\n",
    "plt.tight_layout()\n",
    "\n",
    "fig.autofmt_xdate()\n",
    "ax.set_title('Humidity in New York')\n",
    "plt.xlabel(\"Date\")\n",
    "plt.ylabel(\"Humidity\")"
   ]
  },
  {
   "cell_type": "code",
   "execution_count": null,
   "metadata": {},
   "outputs": [],
   "source": [
    "corr = df_new_york2.corr()\n",
    "ax = sns.heatmap(corr, \n",
    "    vmin=-1, vmax=1, center=0,\n",
    "    cmap=sns.diverging_palette(20, 220, n=200),\n",
    "    square=True)\n",
    "ax.set_xticklabels(ax.get_xticklabels(),\n",
    "    rotation=45,\n",
    "    horizontalalignment='right');"
   ]
  },
  {
   "cell_type": "code",
   "execution_count": 18,
   "metadata": {},
   "outputs": [
    {
     "data": {
      "text/plain": [
       "Text(0,0.5,'Humidity')"
      ]
     },
     "execution_count": 18,
     "metadata": {},
     "output_type": "execute_result"
    },
    {
     "data": {
      "image/png": "[encoded data removed]",
      "text/plain": [
       "<Figure size 432x288 with 1 Axes>"
      ]
     },
     "metadata": {
      "needs_background": "light"
     },
     "output_type": "display_data"
    }
   ],
   "source": [
    "plt.scatter(df_new_york2['Cases'], df_new_york2['Hum Avg'])\n",
    "plt.xlabel(\"Total Positive Cases\")\n",
    "plt.ylabel(\"Humidity\")"
   ]
  },
  {
   "cell_type": "code",
   "execution_count": 19,
   "metadata": {},
   "outputs": [
    {
     "data": {
      "text/plain": [
       "Text(0,0.5,'Temperature')"
      ]
     },
     "execution_count": 19,
     "metadata": {},
     "output_type": "execute_result"
    },
    {
     "data": {
      "image/png": "[encoded data removed]",
      "text/plain": [
       "<Figure size 432x288 with 1 Axes>"
      ]
     },
     "metadata": {
      "needs_background": "light"
     },
     "output_type": "display_data"
    }
   ],
   "source": [
    "plt.scatter(df_new_york2['Cases'], df_new_york2['Temp Avg'])\n",
    "plt.xlabel(\"Total Positive Cases\")\n",
    "plt.ylabel(\"Temperature\")"
   ]
  },
  {
   "cell_type": "code",
   "execution_count": null,
   "metadata": {},
   "outputs": [],
   "source": []
  },
  {
   "cell_type": "markdown",
   "metadata": {},
   "source": [
    "## Data analysis for Sao Paulo"
   ]
  },
  {
   "cell_type": "code",
   "execution_count": 20,
   "metadata": {},
   "outputs": [
    {
     "data": {
      "text/html": [
       "<div>\n",
       "<style scoped>\n",
       "    .dataframe tbody tr th:only-of-type {\n",
       "        vertical-align: middle;\n",
       "    }\n",
       "\n",
       "    .dataframe tbody tr th {\n",
       "        vertical-align: top;\n",
       "    }\n",
       "\n",
       "    .dataframe thead th {\n",
       "        text-align: right;\n",
       "    }\n",
       "</style>\n",
       "<table border=\"1\" class=\"dataframe\">\n",
       "  <thead>\n",
       "    <tr style=\"text-align: right;\">\n",
       "      <th></th>\n",
       "      <th>Date</th>\n",
       "      <th>Temp Max</th>\n",
       "      <th>Temp Avg</th>\n",
       "      <th>Temp Min</th>\n",
       "      <th>Hum Max</th>\n",
       "      <th>Hum Avg</th>\n",
       "      <th>Hum Min</th>\n",
       "      <th>Cases</th>\n",
       "      <th>CumulativeCases</th>\n",
       "      <th>DP Max</th>\n",
       "      <th>DP Avg</th>\n",
       "      <th>DP Min</th>\n",
       "      <th>Wind Max</th>\n",
       "      <th>Wind Avg</th>\n",
       "      <th>Wind Min</th>\n",
       "      <th>Press Max</th>\n",
       "      <th>Press Avg</th>\n",
       "      <th>Press Min</th>\n",
       "      <th>Precipitation (in)</th>\n",
       "    </tr>\n",
       "  </thead>\n",
       "  <tbody>\n",
       "    <tr>\n",
       "      <th>25</th>\n",
       "      <td>26-02-20</td>\n",
       "      <td>77</td>\n",
       "      <td>69.6</td>\n",
       "      <td>64</td>\n",
       "      <td>94</td>\n",
       "      <td>89.9</td>\n",
       "      <td>74</td>\n",
       "      <td>1</td>\n",
       "      <td>1</td>\n",
       "      <td>70</td>\n",
       "      <td>66.6</td>\n",
       "      <td>63</td>\n",
       "      <td>17</td>\n",
       "      <td>10.6</td>\n",
       "      <td>3</td>\n",
       "      <td>27.2</td>\n",
       "      <td>27.2</td>\n",
       "      <td>27.1</td>\n",
       "      <td>0</td>\n",
       "    </tr>\n",
       "    <tr>\n",
       "      <th>28</th>\n",
       "      <td>29-02-20</td>\n",
       "      <td>73</td>\n",
       "      <td>67.3</td>\n",
       "      <td>64</td>\n",
       "      <td>94</td>\n",
       "      <td>86.7</td>\n",
       "      <td>73</td>\n",
       "      <td>1</td>\n",
       "      <td>2</td>\n",
       "      <td>66</td>\n",
       "      <td>63.5</td>\n",
       "      <td>63</td>\n",
       "      <td>17</td>\n",
       "      <td>7.3</td>\n",
       "      <td>2</td>\n",
       "      <td>27.4</td>\n",
       "      <td>27.4</td>\n",
       "      <td>27.3</td>\n",
       "      <td>0</td>\n",
       "    </tr>\n",
       "    <tr>\n",
       "      <th>32</th>\n",
       "      <td>04-03-20</td>\n",
       "      <td>75</td>\n",
       "      <td>64.8</td>\n",
       "      <td>61</td>\n",
       "      <td>94</td>\n",
       "      <td>84.3</td>\n",
       "      <td>57</td>\n",
       "      <td>1</td>\n",
       "      <td>3</td>\n",
       "      <td>63</td>\n",
       "      <td>59.6</td>\n",
       "      <td>57</td>\n",
       "      <td>14</td>\n",
       "      <td>6.3</td>\n",
       "      <td>1</td>\n",
       "      <td>27.4</td>\n",
       "      <td>27.3</td>\n",
       "      <td>27.3</td>\n",
       "      <td>0</td>\n",
       "    </tr>\n",
       "    <tr>\n",
       "      <th>33</th>\n",
       "      <td>05-03-20</td>\n",
       "      <td>75</td>\n",
       "      <td>65.0</td>\n",
       "      <td>61</td>\n",
       "      <td>94</td>\n",
       "      <td>82.0</td>\n",
       "      <td>53</td>\n",
       "      <td>3</td>\n",
       "      <td>6</td>\n",
       "      <td>61</td>\n",
       "      <td>58.9</td>\n",
       "      <td>57</td>\n",
       "      <td>15</td>\n",
       "      <td>8.0</td>\n",
       "      <td>3</td>\n",
       "      <td>27.4</td>\n",
       "      <td>27.4</td>\n",
       "      <td>27.3</td>\n",
       "      <td>0</td>\n",
       "    </tr>\n",
       "    <tr>\n",
       "      <th>34</th>\n",
       "      <td>06-03-20</td>\n",
       "      <td>73</td>\n",
       "      <td>65.4</td>\n",
       "      <td>61</td>\n",
       "      <td>88</td>\n",
       "      <td>76.7</td>\n",
       "      <td>50</td>\n",
       "      <td>4</td>\n",
       "      <td>10</td>\n",
       "      <td>61</td>\n",
       "      <td>57.1</td>\n",
       "      <td>54</td>\n",
       "      <td>15</td>\n",
       "      <td>9.5</td>\n",
       "      <td>6</td>\n",
       "      <td>27.4</td>\n",
       "      <td>27.4</td>\n",
       "      <td>27.3</td>\n",
       "      <td>0</td>\n",
       "    </tr>\n",
       "  </tbody>\n",
       "</table>\n",
       "</div>"
      ],
      "text/plain": [
       "        Date  Temp Max  Temp Avg  Temp Min  Hum Max  Hum Avg  Hum Min  Cases  \\\n",
       "25  26-02-20        77      69.6        64       94     89.9       74      1   \n",
       "28  29-02-20        73      67.3        64       94     86.7       73      1   \n",
       "32  04-03-20        75      64.8        61       94     84.3       57      1   \n",
       "33  05-03-20        75      65.0        61       94     82.0       53      3   \n",
       "34  06-03-20        73      65.4        61       88     76.7       50      4   \n",
       "\n",
       "    CumulativeCases  DP Max  DP Avg  DP Min  Wind Max  Wind Avg  Wind Min  \\\n",
       "25                1      70    66.6      63        17      10.6         3   \n",
       "28                2      66    63.5      63        17       7.3         2   \n",
       "32                3      63    59.6      57        14       6.3         1   \n",
       "33                6      61    58.9      57        15       8.0         3   \n",
       "34               10      61    57.1      54        15       9.5         6   \n",
       "\n",
       "    Press Max  Press Avg  Press Min  Precipitation (in)  \n",
       "25       27.2       27.2       27.1                   0  \n",
       "28       27.4       27.4       27.3                   0  \n",
       "32       27.4       27.3       27.3                   0  \n",
       "33       27.4       27.4       27.3                   0  \n",
       "34       27.4       27.4       27.3                   0  "
      ]
     },
     "execution_count": 20,
     "metadata": {},
     "output_type": "execute_result"
    }
   ],
   "source": [
    "df_SP = pd.read_csv('Weather/data_Sao-Paulo-Brazil_weather.csv')\n",
    "df_SP1 = df_SP[df_SP['Cases'] != 0]\n",
    "df_SP1.head()"
   ]
  },
  {
   "cell_type": "code",
   "execution_count": null,
   "metadata": {},
   "outputs": [],
   "source": [
    "fig, ax = plt.subplots(figsize=(10, 10))\n",
    "ax.plot(df_SP1['Date'], df_SP1['Cases'])\n",
    "\n",
    "fig.autofmt_xdate()\n",
    "ax.set_title('Cases in São Paulo')\n",
    "plt.xlabel(\"Date\")\n",
    "plt.ylabel(\"Total Positive Cases\")"
   ]
  },
  {
   "cell_type": "code",
   "execution_count": null,
   "metadata": {},
   "outputs": [],
   "source": [
    "#Graficos Temperatura"
   ]
  },
  {
   "cell_type": "code",
   "execution_count": null,
   "metadata": {},
   "outputs": [],
   "source": [
    "#Graficos Humidade"
   ]
  },
  {
   "cell_type": "code",
   "execution_count": null,
   "metadata": {},
   "outputs": [],
   "source": [
    "corr = df_SP1.corr()\n",
    "ax = sns.heatmap(corr, \n",
    "    vmin=-1, vmax=1, center=0,\n",
    "    cmap=sns.diverging_palette(20, 220, n=200),\n",
    "    square=True)\n",
    "ax.set_xticklabels(ax.get_xticklabels(),\n",
    "    rotation=45,\n",
    "    horizontalalignment='right');"
   ]
  },
  {
   "cell_type": "code",
   "execution_count": 21,
   "metadata": {},
   "outputs": [
    {
     "data": {
      "text/plain": [
       "Text(0,0.5,'Humidity')"
      ]
     },
     "execution_count": 21,
     "metadata": {},
     "output_type": "execute_result"
    },
    {
     "data": {
      "image/png": "[encoded data removed]",
      "text/plain": [
       "<Figure size 432x288 with 1 Axes>"
      ]
     },
     "metadata": {
      "needs_background": "light"
     },
     "output_type": "display_data"
    }
   ],
   "source": [
    "plt.scatter(df_SP1['Cases'], df_SP1['Hum Avg'])\n",
    "plt.xlabel(\"Total Positive Cases\")\n",
    "plt.ylabel(\"Humidity\")"
   ]
  },
  {
   "cell_type": "code",
   "execution_count": 22,
   "metadata": {},
   "outputs": [
    {
     "data": {
      "text/plain": [
       "Text(0,0.5,'Temperature')"
      ]
     },
     "execution_count": 22,
     "metadata": {},
     "output_type": "execute_result"
    },
    {
     "data": {
      "image/png": "[encoded data removed]",
      "text/plain": [
       "<Figure size 432x288 with 1 Axes>"
      ]
     },
     "metadata": {
      "needs_background": "light"
     },
     "output_type": "display_data"
    }
   ],
   "source": [
    "plt.scatter(df_SP1['Cases'], df_SP1['Temp Avg'])\n",
    "plt.xlabel(\"Total Positive Cases\")\n",
    "plt.ylabel(\"Temperature\")"
   ]
  },
  {
   "cell_type": "code",
   "execution_count": null,
   "metadata": {},
   "outputs": [],
   "source": []
  },
  {
   "cell_type": "markdown",
   "metadata": {},
   "source": [
    "## Data analysis for Barcelona"
   ]
  },
  {
   "cell_type": "code",
   "execution_count": 23,
   "metadata": {},
   "outputs": [
    {
     "data": {
      "text/html": [
       "<div>\n",
       "<style scoped>\n",
       "    .dataframe tbody tr th:only-of-type {\n",
       "        vertical-align: middle;\n",
       "    }\n",
       "\n",
       "    .dataframe tbody tr th {\n",
       "        vertical-align: top;\n",
       "    }\n",
       "\n",
       "    .dataframe thead th {\n",
       "        text-align: right;\n",
       "    }\n",
       "</style>\n",
       "<table border=\"1\" class=\"dataframe\">\n",
       "  <thead>\n",
       "    <tr style=\"text-align: right;\">\n",
       "      <th></th>\n",
       "      <th>Date</th>\n",
       "      <th>Temp Max</th>\n",
       "      <th>Temp Avg</th>\n",
       "      <th>Temp Min</th>\n",
       "      <th>Hum Max</th>\n",
       "      <th>Hum Avg</th>\n",
       "      <th>Hum Min</th>\n",
       "      <th>Cases</th>\n",
       "      <th>CumulativeCases</th>\n",
       "      <th>DP Max</th>\n",
       "      <th>DP Avg</th>\n",
       "      <th>DP Min</th>\n",
       "      <th>Wind Max</th>\n",
       "      <th>Wind Avg</th>\n",
       "      <th>Wind Min</th>\n",
       "      <th>Press Max</th>\n",
       "      <th>Press Avg</th>\n",
       "      <th>Press Min</th>\n",
       "      <th>Precipitation (in)</th>\n",
       "    </tr>\n",
       "  </thead>\n",
       "  <tbody>\n",
       "    <tr>\n",
       "      <th>40</th>\n",
       "      <td>12-03-20</td>\n",
       "      <td>59</td>\n",
       "      <td>55.0</td>\n",
       "      <td>50</td>\n",
       "      <td>100</td>\n",
       "      <td>88.3</td>\n",
       "      <td>67</td>\n",
       "      <td>3</td>\n",
       "      <td>3</td>\n",
       "      <td>55</td>\n",
       "      <td>51.5</td>\n",
       "      <td>45</td>\n",
       "      <td>14</td>\n",
       "      <td>7.2</td>\n",
       "      <td>1</td>\n",
       "      <td>30.2</td>\n",
       "      <td>30.1</td>\n",
       "      <td>30.0</td>\n",
       "      <td>0</td>\n",
       "    </tr>\n",
       "    <tr>\n",
       "      <th>41</th>\n",
       "      <td>13-03-20</td>\n",
       "      <td>63</td>\n",
       "      <td>56.5</td>\n",
       "      <td>50</td>\n",
       "      <td>100</td>\n",
       "      <td>87.3</td>\n",
       "      <td>68</td>\n",
       "      <td>1</td>\n",
       "      <td>4</td>\n",
       "      <td>55</td>\n",
       "      <td>52.8</td>\n",
       "      <td>48</td>\n",
       "      <td>20</td>\n",
       "      <td>10.2</td>\n",
       "      <td>0</td>\n",
       "      <td>30.1</td>\n",
       "      <td>30.1</td>\n",
       "      <td>30.0</td>\n",
       "      <td>0</td>\n",
       "    </tr>\n",
       "    <tr>\n",
       "      <th>42</th>\n",
       "      <td>14-03-20</td>\n",
       "      <td>64</td>\n",
       "      <td>57.4</td>\n",
       "      <td>52</td>\n",
       "      <td>94</td>\n",
       "      <td>79.0</td>\n",
       "      <td>63</td>\n",
       "      <td>51</td>\n",
       "      <td>55</td>\n",
       "      <td>54</td>\n",
       "      <td>50.8</td>\n",
       "      <td>45</td>\n",
       "      <td>13</td>\n",
       "      <td>6.0</td>\n",
       "      <td>1</td>\n",
       "      <td>30.1</td>\n",
       "      <td>30.1</td>\n",
       "      <td>30.0</td>\n",
       "      <td>0</td>\n",
       "    </tr>\n",
       "    <tr>\n",
       "      <th>43</th>\n",
       "      <td>15-03-20</td>\n",
       "      <td>61</td>\n",
       "      <td>54.8</td>\n",
       "      <td>48</td>\n",
       "      <td>88</td>\n",
       "      <td>81.8</td>\n",
       "      <td>72</td>\n",
       "      <td>192</td>\n",
       "      <td>247</td>\n",
       "      <td>54</td>\n",
       "      <td>49.6</td>\n",
       "      <td>43</td>\n",
       "      <td>10</td>\n",
       "      <td>7.3</td>\n",
       "      <td>2</td>\n",
       "      <td>30.1</td>\n",
       "      <td>30.1</td>\n",
       "      <td>30.0</td>\n",
       "      <td>0</td>\n",
       "    </tr>\n",
       "    <tr>\n",
       "      <th>44</th>\n",
       "      <td>16-03-20</td>\n",
       "      <td>59</td>\n",
       "      <td>56.5</td>\n",
       "      <td>55</td>\n",
       "      <td>100</td>\n",
       "      <td>88.5</td>\n",
       "      <td>77</td>\n",
       "      <td>148</td>\n",
       "      <td>395</td>\n",
       "      <td>55</td>\n",
       "      <td>53.4</td>\n",
       "      <td>50</td>\n",
       "      <td>25</td>\n",
       "      <td>17.8</td>\n",
       "      <td>6</td>\n",
       "      <td>30.2</td>\n",
       "      <td>30.0</td>\n",
       "      <td>29.9</td>\n",
       "      <td>0</td>\n",
       "    </tr>\n",
       "  </tbody>\n",
       "</table>\n",
       "</div>"
      ],
      "text/plain": [
       "        Date  Temp Max  Temp Avg  Temp Min  Hum Max  Hum Avg  Hum Min  Cases  \\\n",
       "40  12-03-20        59      55.0        50      100     88.3       67      3   \n",
       "41  13-03-20        63      56.5        50      100     87.3       68      1   \n",
       "42  14-03-20        64      57.4        52       94     79.0       63     51   \n",
       "43  15-03-20        61      54.8        48       88     81.8       72    192   \n",
       "44  16-03-20        59      56.5        55      100     88.5       77    148   \n",
       "\n",
       "    CumulativeCases  DP Max  DP Avg  DP Min  Wind Max  Wind Avg  Wind Min  \\\n",
       "40                3      55    51.5      45        14       7.2         1   \n",
       "41                4      55    52.8      48        20      10.2         0   \n",
       "42               55      54    50.8      45        13       6.0         1   \n",
       "43              247      54    49.6      43        10       7.3         2   \n",
       "44              395      55    53.4      50        25      17.8         6   \n",
       "\n",
       "    Press Max  Press Avg  Press Min  Precipitation (in)  \n",
       "40       30.2       30.1       30.0                   0  \n",
       "41       30.1       30.1       30.0                   0  \n",
       "42       30.1       30.1       30.0                   0  \n",
       "43       30.1       30.1       30.0                   0  \n",
       "44       30.2       30.0       29.9                   0  "
      ]
     },
     "execution_count": 23,
     "metadata": {},
     "output_type": "execute_result"
    }
   ],
   "source": [
    "df_BCN = pd.read_csv('Weather/data_Barcelona-Spain_weather.csv')\n",
    "df_BCN1 = df_BCN[df_BCN['Cases'] != 0]\n",
    "df_BCN1.head()"
   ]
  },
  {
   "cell_type": "code",
   "execution_count": null,
   "metadata": {},
   "outputs": [],
   "source": [
    "fig, ax = plt.subplots(figsize=(10, 10))\n",
    "ax.plot(df_BCN1['Date'], df_BCN1['Cases'])\n",
    "\n",
    "fig.autofmt_xdate()\n",
    "ax.set_title('Cases in BCN')\n",
    "plt.xlabel(\"Date\")\n",
    "plt.ylabel(\"Total Positive Cases\")"
   ]
  },
  {
   "cell_type": "code",
   "execution_count": null,
   "metadata": {},
   "outputs": [],
   "source": [
    "#Graficos Temperatura"
   ]
  },
  {
   "cell_type": "code",
   "execution_count": null,
   "metadata": {},
   "outputs": [],
   "source": [
    "#Graficos Humidade"
   ]
  },
  {
   "cell_type": "code",
   "execution_count": null,
   "metadata": {},
   "outputs": [],
   "source": [
    "corr = df_BCN1.corr()\n",
    "ax = sns.heatmap(corr, \n",
    "    vmin=-1, vmax=1, center=0,\n",
    "    cmap=sns.diverging_palette(20, 220, n=200),\n",
    "    square=True)\n",
    "ax.set_xticklabels(ax.get_xticklabels(),\n",
    "    rotation=45,\n",
    "    horizontalalignment='right');"
   ]
  },
  {
   "cell_type": "code",
   "execution_count": 24,
   "metadata": {},
   "outputs": [
    {
     "data": {
      "text/plain": [
       "Text(0,0.5,'Humidity')"
      ]
     },
     "execution_count": 24,
     "metadata": {},
     "output_type": "execute_result"
    },
    {
     "data": {
      "image/png": "[encoded data removed]",
      "text/plain": [
       "<Figure size 432x288 with 1 Axes>"
      ]
     },
     "metadata": {
      "needs_background": "light"
     },
     "output_type": "display_data"
    }
   ],
   "source": [
    "plt.scatter(df_BCN1['Cases'], df_BCN1['Hum Avg'])\n",
    "plt.xlabel(\"Total Positive Cases\")\n",
    "plt.ylabel(\"Humidity\")"
   ]
  },
  {
   "cell_type": "code",
   "execution_count": 25,
   "metadata": {},
   "outputs": [
    {
     "data": {
      "text/plain": [
       "Text(0,0.5,'Temperature')"
      ]
     },
     "execution_count": 25,
     "metadata": {},
     "output_type": "execute_result"
    },
    {
     "data": {
      "image/png": "[encoded data removed]",
      "text/plain": [
       "<Figure size 432x288 with 1 Axes>"
      ]
     },
     "metadata": {
      "needs_background": "light"
     },
     "output_type": "display_data"
    }
   ],
   "source": [
    "plt.scatter(df_BCN1['Cases'], df_BCN1['Temp Avg'])\n",
    "plt.xlabel(\"Total Positive Cases\")\n",
    "plt.ylabel(\"Temperature\")"
   ]
  },
  {
   "cell_type": "code",
   "execution_count": null,
   "metadata": {},
   "outputs": [],
   "source": []
  },
  {
   "cell_type": "markdown",
   "metadata": {},
   "source": [
    "## Data analysis for New Delhi"
   ]
  },
  {
   "cell_type": "code",
   "execution_count": 26,
   "metadata": {},
   "outputs": [
    {
     "data": {
      "text/html": [
       "<div>\n",
       "<style scoped>\n",
       "    .dataframe tbody tr th:only-of-type {\n",
       "        vertical-align: middle;\n",
       "    }\n",
       "\n",
       "    .dataframe tbody tr th {\n",
       "        vertical-align: top;\n",
       "    }\n",
       "\n",
       "    .dataframe thead th {\n",
       "        text-align: right;\n",
       "    }\n",
       "</style>\n",
       "<table border=\"1\" class=\"dataframe\">\n",
       "  <thead>\n",
       "    <tr style=\"text-align: right;\">\n",
       "      <th></th>\n",
       "      <th>Date</th>\n",
       "      <th>Temp Max</th>\n",
       "      <th>Temp Avg</th>\n",
       "      <th>Temp Min</th>\n",
       "      <th>Hum Max</th>\n",
       "      <th>Hum Avg</th>\n",
       "      <th>Hum Min</th>\n",
       "      <th>Cases</th>\n",
       "      <th>CumulativeCases</th>\n",
       "      <th>DP Max</th>\n",
       "      <th>DP Avg</th>\n",
       "      <th>DP Min</th>\n",
       "      <th>Wind Max</th>\n",
       "      <th>Wind Avg</th>\n",
       "      <th>Wind Min</th>\n",
       "      <th>Press Max</th>\n",
       "      <th>Press Avg</th>\n",
       "      <th>Press Min</th>\n",
       "      <th>Precipitation (in)</th>\n",
       "    </tr>\n",
       "  </thead>\n",
       "  <tbody>\n",
       "    <tr>\n",
       "      <th>30</th>\n",
       "      <td>02-03-20</td>\n",
       "      <td>82</td>\n",
       "      <td>70.0</td>\n",
       "      <td>60</td>\n",
       "      <td>100</td>\n",
       "      <td>82.8</td>\n",
       "      <td>56</td>\n",
       "      <td>1</td>\n",
       "      <td>1</td>\n",
       "      <td>67</td>\n",
       "      <td>63.9</td>\n",
       "      <td>60</td>\n",
       "      <td>3</td>\n",
       "      <td>0.8</td>\n",
       "      <td>0</td>\n",
       "      <td>0</td>\n",
       "      <td>0</td>\n",
       "      <td>0</td>\n",
       "      <td>0.00</td>\n",
       "    </tr>\n",
       "    <tr>\n",
       "      <th>33</th>\n",
       "      <td>05-03-20</td>\n",
       "      <td>80</td>\n",
       "      <td>67.9</td>\n",
       "      <td>58</td>\n",
       "      <td>100</td>\n",
       "      <td>83.0</td>\n",
       "      <td>64</td>\n",
       "      <td>1</td>\n",
       "      <td>2</td>\n",
       "      <td>67</td>\n",
       "      <td>62.0</td>\n",
       "      <td>58</td>\n",
       "      <td>10</td>\n",
       "      <td>7.1</td>\n",
       "      <td>3</td>\n",
       "      <td>0</td>\n",
       "      <td>0</td>\n",
       "      <td>0</td>\n",
       "      <td>0.02</td>\n",
       "    </tr>\n",
       "    <tr>\n",
       "      <th>34</th>\n",
       "      <td>06-03-20</td>\n",
       "      <td>71</td>\n",
       "      <td>61.1</td>\n",
       "      <td>58</td>\n",
       "      <td>100</td>\n",
       "      <td>93.5</td>\n",
       "      <td>74</td>\n",
       "      <td>1</td>\n",
       "      <td>3</td>\n",
       "      <td>62</td>\n",
       "      <td>58.9</td>\n",
       "      <td>56</td>\n",
       "      <td>10</td>\n",
       "      <td>5.4</td>\n",
       "      <td>2</td>\n",
       "      <td>0</td>\n",
       "      <td>0</td>\n",
       "      <td>0</td>\n",
       "      <td>0.79</td>\n",
       "    </tr>\n",
       "    <tr>\n",
       "      <th>37</th>\n",
       "      <td>09-03-20</td>\n",
       "      <td>77</td>\n",
       "      <td>64.9</td>\n",
       "      <td>54</td>\n",
       "      <td>100</td>\n",
       "      <td>74.6</td>\n",
       "      <td>48</td>\n",
       "      <td>1</td>\n",
       "      <td>4</td>\n",
       "      <td>58</td>\n",
       "      <td>55.6</td>\n",
       "      <td>54</td>\n",
       "      <td>12</td>\n",
       "      <td>4.6</td>\n",
       "      <td>0</td>\n",
       "      <td>0</td>\n",
       "      <td>0</td>\n",
       "      <td>0</td>\n",
       "      <td>0.00</td>\n",
       "    </tr>\n",
       "    <tr>\n",
       "      <th>39</th>\n",
       "      <td>11-03-20</td>\n",
       "      <td>81</td>\n",
       "      <td>70.9</td>\n",
       "      <td>61</td>\n",
       "      <td>98</td>\n",
       "      <td>80.9</td>\n",
       "      <td>58</td>\n",
       "      <td>1</td>\n",
       "      <td>5</td>\n",
       "      <td>68</td>\n",
       "      <td>64.1</td>\n",
       "      <td>60</td>\n",
       "      <td>8</td>\n",
       "      <td>6.3</td>\n",
       "      <td>2</td>\n",
       "      <td>0</td>\n",
       "      <td>0</td>\n",
       "      <td>0</td>\n",
       "      <td>0.04</td>\n",
       "    </tr>\n",
       "  </tbody>\n",
       "</table>\n",
       "</div>"
      ],
      "text/plain": [
       "        Date  Temp Max  Temp Avg  Temp Min  Hum Max  Hum Avg  Hum Min  Cases  \\\n",
       "30  02-03-20        82      70.0        60      100     82.8       56      1   \n",
       "33  05-03-20        80      67.9        58      100     83.0       64      1   \n",
       "34  06-03-20        71      61.1        58      100     93.5       74      1   \n",
       "37  09-03-20        77      64.9        54      100     74.6       48      1   \n",
       "39  11-03-20        81      70.9        61       98     80.9       58      1   \n",
       "\n",
       "    CumulativeCases  DP Max  DP Avg  DP Min  Wind Max  Wind Avg  Wind Min  \\\n",
       "30                1      67    63.9      60         3       0.8         0   \n",
       "33                2      67    62.0      58        10       7.1         3   \n",
       "34                3      62    58.9      56        10       5.4         2   \n",
       "37                4      58    55.6      54        12       4.6         0   \n",
       "39                5      68    64.1      60         8       6.3         2   \n",
       "\n",
       "    Press Max  Press Avg  Press Min  Precipitation (in)  \n",
       "30          0          0          0                0.00  \n",
       "33          0          0          0                0.02  \n",
       "34          0          0          0                0.79  \n",
       "37          0          0          0                0.00  \n",
       "39          0          0          0                0.04  "
      ]
     },
     "execution_count": 26,
     "metadata": {},
     "output_type": "execute_result"
    }
   ],
   "source": [
    "df_New_Delhi = pd.read_csv('Weather/data_New-Delhi-india_weather.csv')\n",
    "df_New_Delhi1 = df_New_Delhi[df_New_Delhi['Cases'] != 0]\n",
    "df_New_Delhi1.head()"
   ]
  },
  {
   "cell_type": "code",
   "execution_count": null,
   "metadata": {},
   "outputs": [],
   "source": [
    "fig, ax = plt.subplots(figsize=(10, 10))\n",
    "ax.plot(df_New_Delhi1['Date'], df_New_Delhi1['Cases'])\n",
    "fig.autofmt_xdate()\n",
    "ax.set_title('Cases in New Delhi')\n",
    "plt.xlabel(\"Date\")\n",
    "plt.ylabel(\"Total Positive Cases\")"
   ]
  },
  {
   "cell_type": "code",
   "execution_count": null,
   "metadata": {},
   "outputs": [],
   "source": [
    "#Graficos Temperatura"
   ]
  },
  {
   "cell_type": "code",
   "execution_count": null,
   "metadata": {},
   "outputs": [],
   "source": [
    "#Graficos Humidade"
   ]
  },
  {
   "cell_type": "code",
   "execution_count": null,
   "metadata": {},
   "outputs": [],
   "source": [
    "corr = df_New_Delhi1.corr()\n",
    "ax = sns.heatmap(corr, \n",
    "    vmin=-1, vmax=1, center=0,\n",
    "    cmap=sns.diverging_palette(20, 220, n=200),\n",
    "    square=True)\n",
    "ax.set_xticklabels(ax.get_xticklabels(),\n",
    "    rotation=45,\n",
    "    horizontalalignment='right');"
   ]
  },
  {
   "cell_type": "code",
   "execution_count": 27,
   "metadata": {},
   "outputs": [
    {
     "data": {
      "text/plain": [
       "Text(0,0.5,'Humidity')"
      ]
     },
     "execution_count": 27,
     "metadata": {},
     "output_type": "execute_result"
    },
    {
     "data": {
      "image/png": "[encoded data removed]",
      "text/plain": [
       "<Figure size 432x288 with 1 Axes>"
      ]
     },
     "metadata": {
      "needs_background": "light"
     },
     "output_type": "display_data"
    }
   ],
   "source": [
    "plt.scatter(df_New_Delhi1['Cases'], df_New_Delhi1['Hum Avg'])\n",
    "plt.xlabel(\"Total Positive Cases\")\n",
    "plt.ylabel(\"Humidity\")"
   ]
  },
  {
   "cell_type": "code",
   "execution_count": 28,
   "metadata": {},
   "outputs": [
    {
     "data": {
      "text/plain": [
       "Text(0,0.5,'Temperature')"
      ]
     },
     "execution_count": 28,
     "metadata": {},
     "output_type": "execute_result"
    },
    {
     "data": {
      "image/png": "[encoded data removed]",
      "text/plain": [
       "<Figure size 432x288 with 1 Axes>"
      ]
     },
     "metadata": {
      "needs_background": "light"
     },
     "output_type": "display_data"
    }
   ],
   "source": [
    "plt.scatter(df_New_Delhi1['Cases'], df_New_Delhi1['Temp Avg'])\n",
    "plt.xlabel(\"Total Positive Cases\")\n",
    "plt.ylabel(\"Temperature\")"
   ]
  }
 ],
 "metadata": {
  "kernelspec": {
   "display_name": "Python 3",
   "language": "python",
   "name": "python3"
  },
  "language_info": {
   "codemirror_mode": {
    "name": "ipython",
    "version": 3
   },
   "file_extension": ".py",
   "mimetype": "text/x-python",
   "name": "python",
   "nbconvert_exporter": "python",
   "pygments_lexer": "ipython3",
   "version": "3.6.5"
  }
 },
 "nbformat": 4,
 "nbformat_minor": 4
}
